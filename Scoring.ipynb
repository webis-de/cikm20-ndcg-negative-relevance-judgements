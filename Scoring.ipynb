{
 "cells": [
  {
   "cell_type": "code",
   "execution_count": null,
   "metadata": {},
   "outputs": [],
   "source": [
    "import pandas as pd\n",
    "import numpy as np"
   ]
  },
  {
   "cell_type": "code",
   "execution_count": null,
   "metadata": {},
   "outputs": [],
   "source": [
    "df = pd.read_parquet('data/runs.parquet')"
   ]
  },
  {
   "cell_type": "code",
   "execution_count": null,
   "metadata": {},
   "outputs": [],
   "source": [
    "def dcg(data, k):\n",
    "    ranking = data.Relevancy.astype(int).head(k).tolist()\n",
    "    return ranking [0] + sum(list(map(lambda entry: entry[1]/np.log(1+entry[0]), enumerate(ranking[1:], start = 1))))\n",
    "\n",
    "l = []\n",
    "for K in [5,10,15,20]:\n",
    "    scores = df.loc[:,['TREC','Topic','Run']]\n",
    "\n",
    "    scores = scores.merge(\n",
    "        df\n",
    "        .sort_values('Rank', ascending = True)\n",
    "        .groupby(['TREC','Topic','Run'])\n",
    "        .apply(dcg, K)\n",
    "        .reset_index()\n",
    "        .rename({0:'DCG'},axis = 1),\n",
    "        on = ['TREC','Topic','Run'],\n",
    "        how = 'left'\n",
    "    )\n",
    "    scores = scores.merge(\n",
    "        df\n",
    "        .sort_values('Relevancy', ascending = False)\n",
    "        .groupby(['TREC','Topic'])\n",
    "        .apply(dcg, K)\n",
    "        .reset_index()\n",
    "        .rename({0:'IDCG'},axis = 1),\n",
    "        on = ['TREC','Topic'],\n",
    "        how = 'left'\n",
    "    )\n",
    "    scores = scores.merge(\n",
    "        df\n",
    "        .sort_values('Relevancy', ascending = True)\n",
    "        .groupby(['TREC','Topic'])\n",
    "        .apply(dcg, K)\n",
    "        .reset_index()\n",
    "        .rename({0:'WDCG'},axis = 1),\n",
    "        on = ['TREC','Topic'],\n",
    "        how = 'left'\n",
    "    )\n",
    "    scores['K'] = K\n",
    "    l.append(scores)\n",
    "\n",
    "scores = pd.concat(l)\n",
    "\n",
    "def normalize(v,min_v,max_v):\n",
    "    return np.float64(v-min_v)/np.float64(max_v-min_v)\n",
    "\n",
    "\n",
    "scores['NDCG_org'] = scores.apply(lambda row: normalize(row['DCG'],0,row['IDCG']),axis=1)\n",
    "scores['NDCG_min'] = scores.apply(lambda row: normalize(row['DCG'],row['WDCG'],row['IDCG']),axis=1)\n",
    "scores['NDCG_0'] = scores.apply(lambda row: np.float64(row['WDCG'])/np.float64(row['IDCG']),axis=1)\n",
    "scores.drop_duplicates().to_parquet('data/scores.parquet', compression = 'GZIP')"
   ]
  }
 ],
 "metadata": {
  "kernelspec": {
   "display_name": "Python 3",
   "language": "python",
   "name": "python3"
  },
  "language_info": {
   "codemirror_mode": {
    "name": "ipython",
    "version": 3
   },
   "file_extension": ".py",
   "mimetype": "text/x-python",
   "name": "python",
   "nbconvert_exporter": "python",
   "pygments_lexer": "ipython3",
   "version": "3.8.6"
  }
 },
 "nbformat": 4,
 "nbformat_minor": 4
}
