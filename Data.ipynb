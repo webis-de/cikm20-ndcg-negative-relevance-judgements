{
 "cells": [
  {
   "cell_type": "code",
   "execution_count": null,
   "metadata": {},
   "outputs": [],
   "source": [
    "import pandas as pd\n",
    "import glob"
   ]
  },
  {
   "cell_type": "code",
   "execution_count": null,
   "metadata": {},
   "outputs": [],
   "source": [
    "config = {\n",
    "    'trec19': {\n",
    "        'RUN':  './trec19/web.adhoc/*.gz',\n",
    "        'QREL': './qrels/qrels.web.51-100.txt',\n",
    "        'SEP':  '\\t| '\n",
    "    },\n",
    "    'trec20': {\n",
    "        'RUN':  './trec20/web.adhoc/*.gz',\n",
    "        'QREL': './qrels/qrels.web.101-150.txt',\n",
    "        'SEP':  '\\t'\n",
    "    },\n",
    "    'trec21': {\n",
    "        'RUN':  './trec21/web.adhoc/*.gz',\n",
    "        'QREL': './qrels/qrels.web.151-200.txt',\n",
    "        'SEP':  '\\t'\n",
    "    },\n",
    "    'trec22': {\n",
    "        'RUN':  './trec22/web.adhoc/*.gz',\n",
    "        'QREL': './qrels/qrels.web.201-250.txt',\n",
    "        'SEP':  '\\t'\n",
    "    },\n",
    "    'trec23': {\n",
    "        'RUN':  './trec23/web.adhoc/*.gz',\n",
    "        'QREL': './qrels/qrels.web.251-300.txt',\n",
    "        'SEP':  '\\t'\n",
    "    }\n",
    "}"
   ]
  },
  {
   "cell_type": "code",
   "execution_count": null,
   "metadata": {},
   "outputs": [],
   "source": [
    "for trec in config.keys():\n",
    "    l = []\n",
    "    for file in glob.glob(config[trec]['RUN']):\n",
    "        df = (\n",
    "            pd.read_csv(file, sep = config[trec][\"SEP\"], header = None)\n",
    "            .rename({0: 'Topic', 1: 'Iteration', 2: 'Document', 3: 'Rank', 4: 'Score', 5: 'Run'}, axis = 1)\n",
    "            .drop('Iteration', axis=1)\n",
    "            .astype({\"Topic\": int, \"Document\": str, \"Rank\": int, \"Score\": float, \"Run\": str})\n",
    "        )\n",
    "        l.append(df)\n",
    "    df = pd.concat(l)\n",
    "    df.TREC = trec\n",
    "    \n",
    "    if df.Rank.min() == 0:\n",
    "        df.Rank = df.Rank + 1\n",
    "\n",
    "    qrels = (\n",
    "        pd.read_csv(config[trec]['QREL'], sep = \" \", header = None) \n",
    "        .rename({0: 'Topic', 1:'Iteration', 2: 'Document', 3: 'Relevancy'}, axis = 1)\n",
    "        .drop('Iteration', axis = 1)\n",
    "        .astype({\"Topic\": int, \"Document\": str, \"Relevancy\": int})\n",
    "        .reset_index(drop = True)\n",
    "    )\n",
    "    \n",
    "    df = pd.merge(\n",
    "        qrels,\n",
    "        df,\n",
    "        on = ['Topic','Document'],\n",
    "        how = 'outer'\n",
    "    )\n",
    "    \n",
    "    df = df.drop_duplicates().dropna(subset = ['Relevancy']).dropna(subset = ['Score']).sort_values(['Topic','Run','Rank'], ascending = [True, True, True]).groupby(['Topic','Run']).head(20)\n",
    "    df.Rank = df.groupby(['Topic','Run']).cumcount() + 1\n",
    "    df['TREC'] = str(trec) \n",
    "    df.reset_index(drop=True).to_parquet(trec + '.parquet', compression = 'GZIP')"
   ]
  },
  {
   "cell_type": "code",
   "execution_count": null,
   "metadata": {},
   "outputs": [],
   "source": [
    "df = pd.concat([pd.read_parquet(path).reset_index(drop=True) for path in glob.glob('*.parquet')]).reset_index(drop=True)"
   ]
  },
  {
   "cell_type": "code",
   "execution_count": null,
   "metadata": {},
   "outputs": [],
   "source": [
    "df = (\n",
    "    df\n",
    "    .dropna(subset=['Run'])\n",
    "    .dropna(subset=['Relevancy'])\n",
    "    .dropna(subset=['Score'])\n",
    "    .drop_duplicates()\n",
    "    .drop('Score',axis=1)\n",
    "    .set_index(['TREC', 'Topic', 'Run'])\n",
    ")"
   ]
  },
  {
   "cell_type": "code",
   "execution_count": null,
   "metadata": {},
   "outputs": [],
   "source": [
    "runs_omitted = (\n",
    "    df\n",
    "    .groupby(['TREC','Topic','Run'])\n",
    "    .filter(lambda group: len(group) != 20)\n",
    ").reset_index().drop_duplicates(subset=['Topic','Run']).Run.unique()\n",
    "\n",
    "runs_omitted"
   ]
  },
  {
   "cell_type": "code",
   "execution_count": null,
   "metadata": {},
   "outputs": [],
   "source": [
    "df = df.reset_index()[~df.reset_index().Run.isin(runs_omitted)]"
   ]
  },
  {
   "cell_type": "code",
   "execution_count": null,
   "metadata": {},
   "outputs": [],
   "source": [
    "df[~(df.Topic == 109)].to_parquet('runs.parquet', compression = 'GZIP')"
   ]
  }
 ],
 "metadata": {
  "kernelspec": {
   "display_name": "Python 3",
   "language": "python",
   "name": "python3"
  },
  "language_info": {
   "codemirror_mode": {
    "name": "ipython",
    "version": 3
   },
   "file_extension": ".py",
   "mimetype": "text/x-python",
   "name": "python",
   "nbconvert_exporter": "python",
   "pygments_lexer": "ipython3",
   "version": "3.8.6"
  }
 },
 "nbformat": 4,
 "nbformat_minor": 4
}
